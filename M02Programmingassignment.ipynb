{
 "cells": [
  {
   "cell_type": "code",
   "execution_count": 3,
   "id": "7cd74342-dd8a-44df-bb87-4bb203906ce9",
   "metadata": {},
   "outputs": [
    {
     "name": "stdout",
     "output_type": "stream",
     "text": [
      "Too low\n"
     ]
    }
   ],
   "source": [
    "#4.1\n",
    "secret = 3\n",
    "guess = 2\n",
    "if guess < secret:\n",
    "    print(\"Too low\")\n",
    "elif guess > secret:\n",
    "    print (\"too high\")\n",
    "else:\n",
    "    print (\"just right\")\n",
    "    "
   ]
  },
  {
   "cell_type": "code",
   "execution_count": 7,
   "id": "2895dba3-86e2-4268-9e28-c889bacfa180",
   "metadata": {},
   "outputs": [
    {
     "name": "stdout",
     "output_type": "stream",
     "text": [
      "The item is a Pea\n"
     ]
    }
   ],
   "source": [
    "#4.2\n",
    "green = True\n",
    "small = False\n",
    "if green and small:\n",
    "    print (\"The item is a Watermelon\")\n",
    "elif green and not small: \n",
    "    print (\"The item is a Pea\")\n",
    "elif not green and small:\n",
    "    print (\"The item is a Pumpkin\")\n",
    "else:\n",
    "    print (\"The item is a Cherry\")"
   ]
  },
  {
   "cell_type": "code",
   "execution_count": 14,
   "id": "759b1f92-0fcb-4c59-a09b-8d2116d7712b",
   "metadata": {},
   "outputs": [
    {
     "name": "stdout",
     "output_type": "stream",
     "text": [
      "3\n",
      "2\n",
      "1\n",
      "0\n"
     ]
    }
   ],
   "source": [
    "#6.1 \n",
    "for i in range (3, -1, -1):\n",
    "    print (i)"
   ]
  },
  {
   "cell_type": "code",
   "execution_count": 18,
   "id": "3c149437-eb63-4215-8e32-6f792d9706d0",
   "metadata": {},
   "outputs": [
    {
     "name": "stdout",
     "output_type": "stream",
     "text": [
      "Too low\n",
      "Too low\n",
      "Too low\n",
      "Too low\n",
      "Too low\n",
      "Too low\n",
      "Found it\n"
     ]
    }
   ],
   "source": [
    "#6.2\n",
    "guess_me = 7\n",
    "number = 1\n",
    "while guess_me >= number:\n",
    "    if guess_me > number:\n",
    "        print (\"Too low\")\n",
    "    elif guess_me == number:\n",
    "        print (\"Found it\")\n",
    "    else:\n",
    "        print (\"Opps\")\n",
    "    number = number + 1"
   ]
  },
  {
   "cell_type": "code",
   "execution_count": 19,
   "id": "b8c93b23-3dd2-4b46-8108-c058738888cb",
   "metadata": {},
   "outputs": [
    {
     "ename": "SyntaxError",
     "evalue": "expected ':' (548913071.py, line 9)",
     "output_type": "error",
     "traceback": [
      "\u001b[1;36m  Cell \u001b[1;32mIn[19], line 9\u001b[1;36m\u001b[0m\n\u001b[1;33m    else number > guess_me:\u001b[0m\n\u001b[1;37m         ^\u001b[0m\n\u001b[1;31mSyntaxError\u001b[0m\u001b[1;31m:\u001b[0m expected ':'\n"
     ]
    }
   ],
   "source": [
    "#6.3 \n",
    "guess_me = 5 \n",
    "for number in range(10):\n",
    "    if number < guess_me:\n",
    "        print (\"Too low\")\n",
    "    elif number == guess_me:\n",
    "        print (\"Found it\")\n",
    "        break\n",
    "    else number > guess_me:\n",
    "        print (\"Opps\")\n",
    "        break"
   ]
  },
  {
   "cell_type": "code",
   "execution_count": null,
   "id": "4acf2e7e-dd24-42e7-ac88-394a2c22fef1",
   "metadata": {},
   "outputs": [],
   "source": []
  }
 ],
 "metadata": {
  "kernelspec": {
   "display_name": "Python 3 (ipykernel)",
   "language": "python",
   "name": "python3"
  },
  "language_info": {
   "codemirror_mode": {
    "name": "ipython",
    "version": 3
   },
   "file_extension": ".py",
   "mimetype": "text/x-python",
   "name": "python",
   "nbconvert_exporter": "python",
   "pygments_lexer": "ipython3",
   "version": "3.11.7"
  }
 },
 "nbformat": 4,
 "nbformat_minor": 5
}
