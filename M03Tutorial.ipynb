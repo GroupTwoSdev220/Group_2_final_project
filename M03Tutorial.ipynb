{
 "cells": [
  {
   "cell_type": "code",
   "execution_count": 2,
   "id": "1560b30b-fd48-467f-96b9-5cf8658adff8",
   "metadata": {},
   "outputs": [],
   "source": [
    "#Minh Tong\n",
    "#SDEV220\n",
    "#M03 Tutorial"
   ]
  },
  {
   "cell_type": "code",
   "execution_count": 15,
   "id": "873b2488-dd01-458c-87d9-a2fbe515941f",
   "metadata": {},
   "outputs": [
    {
     "name": "stdin",
     "output_type": "stream",
     "text": [
      "Enter the number of elements in the array:  5\n",
      "Enter element 1:  1\n",
      "Enter element 2:  2\n",
      "Enter element 3:  3\n",
      "Enter element 4:  4\n",
      "Enter element 5:  5\n"
     ]
    },
    {
     "name": "stdout",
     "output_type": "stream",
     "text": [
      "Sorted array: [1, 3, 4, 5, 2]\n"
     ]
    }
   ],
   "source": [
    "#1 Sort an Array of 0s, 1s, and 2s\n",
    "class Solution:\n",
    "    def sort012(self,arr,n):\n",
    "        # code here\n",
    "        low = 0\n",
    "        mid = 0 \n",
    "        high = n - 1\n",
    "        \n",
    "        while mid <= high: \n",
    "            if arr[mid] == 0:\n",
    "                arr[low], arr[mid] = arr[mid], arr[low]\n",
    "                low = low + 1\n",
    "                mid = mid + 1\n",
    "            elif arr[mid] == 1: \n",
    "                mid = mid + 1\n",
    "            else: \n",
    "                arr[mid], arr[high] = arr[high], arr[mid]\n",
    "                high = high - 1\n",
    "        \n",
    "        return arr\n",
    "        \n",
    "        \n",
    "#input of the code: \n",
    "N = int(input(\"Enter the number of elements in the array: \"))\n",
    "arr = []\n",
    "for i in range(N):\n",
    "    element = int(input(f\"Enter element {i+1}: \"))\n",
    "    arr.append(element)\n",
    "\n",
    "if len(arr) != N:\n",
    "    print(\"Input error\")\n",
    "else: \n",
    "    solution = Solution()\n",
    "    solution_arr = solution.sort012(arr, N)\n",
    "    print(\"Sorted array:\", solution_arr)"
   ]
  },
  {
   "cell_type": "code",
   "execution_count": 16,
   "id": "a1cb14d9-428d-4f15-ad44-0996412c9ea0",
   "metadata": {},
   "outputs": [
    {
     "name": "stdin",
     "output_type": "stream",
     "text": [
      "enter the lenght of the array 5\n",
      "enter the binary you want to search 4\n",
      "Enter element 1:  1\n",
      "Enter element 2:  2\n",
      "Enter element 3:  3\n",
      "Enter element 4:  4\n",
      "Enter element 5:  5\n"
     ]
    },
    {
     "name": "stdout",
     "output_type": "stream",
     "text": [
      "4 appear at index  3\n"
     ]
    }
   ],
   "source": [
    "#2 Binary Search\n",
    "\n",
    "\n",
    "class Solution:\n",
    "    def binarysearch(self, arr, n, k):\n",
    "        left, right = 0, n - 1\n",
    "        \n",
    "        while left <= right:\n",
    "            mid = (left + right) // 2\n",
    "            \n",
    "            if arr[mid] == k:\n",
    "                return mid\n",
    "            elif arr[mid] < k:\n",
    "                left = mid + 1\n",
    "            else:\n",
    "                right = mid - 1\n",
    "        \n",
    "        return -1\n",
    "#main part of the code: \n",
    "\n",
    "arr = []\n",
    "n = int(input(\"enter the lenght of the array\"))\n",
    "k = int(input(\"enter the binary you want to search\"))\n",
    "for i in range (n): \n",
    "    element = int(input(f\"Enter element {i+1}: \"))\n",
    "    arr.append(element)\n",
    "if len(arr) != n: \n",
    "    print(\"Input Error\")\n",
    "else: \n",
    "    solution = Solution()\n",
    "    position = solution.binarysearch(arr, n, k)\n",
    "    print(k, \"appear at index \", position)"
   ]
  },
  {
   "cell_type": "code",
   "execution_count": null,
   "id": "6e77e5ca-0b2e-436d-af95-32c92e02a835",
   "metadata": {},
   "outputs": [],
   "source": []
  }
 ],
 "metadata": {
  "kernelspec": {
   "display_name": "Python 3 (ipykernel)",
   "language": "python",
   "name": "python3"
  },
  "language_info": {
   "codemirror_mode": {
    "name": "ipython",
    "version": 3
   },
   "file_extension": ".py",
   "mimetype": "text/x-python",
   "name": "python",
   "nbconvert_exporter": "python",
   "pygments_lexer": "ipython3",
   "version": "3.11.7"
  }
 },
 "nbformat": 4,
 "nbformat_minor": 5
}
