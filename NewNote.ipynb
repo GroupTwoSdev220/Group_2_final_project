{
 "cells": [
  {
   "cell_type": "code",
   "execution_count": 1,
   "id": "6f0d6283-3304-4036-920a-bec5c6bf45f5",
   "metadata": {},
   "outputs": [
    {
     "name": "stdout",
     "output_type": "stream",
     "text": [
      "3600\n"
     ]
    }
   ],
   "source": [
    "#3.1\n",
    "second = 60 \n",
    "minute = 60\n",
    "print(second * minute)"
   ]
  },
  {
   "cell_type": "code",
   "execution_count": 7,
   "id": "4d27e3e5-33f9-4be1-8673-11afb4097dcd",
   "metadata": {},
   "outputs": [],
   "source": [
    "seconds_per_hour = second * minute "
   ]
  },
  {
   "cell_type": "code",
   "execution_count": 8,
   "id": "6b955432-8486-4cf5-a6e7-e55b050b2a68",
   "metadata": {},
   "outputs": [
    {
     "name": "stdout",
     "output_type": "stream",
     "text": [
      "86400\n"
     ]
    }
   ],
   "source": [
    "print(seconds_per_hour * 24)"
   ]
  },
  {
   "cell_type": "code",
   "execution_count": 4,
   "id": "980a7e05-3389-45d1-a5c6-20addd4cd6bd",
   "metadata": {},
   "outputs": [
    {
     "name": "stdout",
     "output_type": "stream",
     "text": [
      "86400\n"
     ]
    }
   ],
   "source": [
    "seconds_per_day = seconds_per_hour * 24\n",
    "print(seconds_per_day)"
   ]
  },
  {
   "cell_type": "code",
   "execution_count": 5,
   "id": "86b3e00c-4f32-47ff-92a6-68c01931517e",
   "metadata": {},
   "outputs": [
    {
     "name": "stdout",
     "output_type": "stream",
     "text": [
      "24.0\n"
     ]
    }
   ],
   "source": [
    "print(seconds_per_day / seconds_per_hour)"
   ]
  },
  {
   "cell_type": "code",
   "execution_count": 9,
   "id": "ec9d18c6-bc5b-410f-ac3b-648ac6703b44",
   "metadata": {},
   "outputs": [
    {
     "name": "stdout",
     "output_type": "stream",
     "text": [
      "24\n"
     ]
    }
   ],
   "source": [
    "print(seconds_per_day // seconds_per_hour)"
   ]
  },
  {
   "cell_type": "code",
   "execution_count": null,
   "id": "54428c80-16d7-4327-9329-e5d46029fb33",
   "metadata": {},
   "outputs": [],
   "source": []
  }
 ],
 "metadata": {
  "kernelspec": {
   "display_name": "Python 3 (ipykernel)",
   "language": "python",
   "name": "python3"
  },
  "language_info": {
   "codemirror_mode": {
    "name": "ipython",
    "version": 3
   },
   "file_extension": ".py",
   "mimetype": "text/x-python",
   "name": "python",
   "nbconvert_exporter": "python",
   "pygments_lexer": "ipython3",
   "version": "3.11.7"
  }
 },
 "nbformat": 4,
 "nbformat_minor": 5
}
