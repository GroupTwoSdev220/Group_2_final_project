{
 "cells": [
  {
   "cell_type": "code",
   "execution_count": 1,
   "id": "c112b729-e89f-4ae4-8a12-e09e7842ad12",
   "metadata": {},
   "outputs": [],
   "source": [
    "#Minh Tong \n",
    "#M03 Programming Assignment \n",
    "#Chapter 7 and Chapter 9"
   ]
  },
  {
   "cell_type": "code",
   "execution_count": 2,
   "id": "3c6f6b48-6eb9-42e8-a52d-fcbdc4de8e55",
   "metadata": {},
   "outputs": [],
   "source": [
    "#7.4\n",
    "things = [\"mozzarella\", \"cinderella\", \"salmonella\"]"
   ]
  },
  {
   "cell_type": "code",
   "execution_count": 3,
   "id": "2baeddb2-17c2-49c1-8e71-84d3500b8b62",
   "metadata": {},
   "outputs": [
    {
     "name": "stdout",
     "output_type": "stream",
     "text": [
      "['mozzarella', 'Cinderella', 'salmonella']\n"
     ]
    }
   ],
   "source": [
    "#7.5 \n",
    "things = [\"mozzarella\", \"cinderella\", \"salmonella\"]\n",
    "for i in range(len(things)):\n",
    "    if \"cinderella\" in things[i]:\n",
    "        things[i] = things[i].capitalize()\n",
    "\n",
    "print(things)"
   ]
  },
  {
   "cell_type": "code",
   "execution_count": 6,
   "id": "d9060e2b-b450-4870-93d0-3a33a371d847",
   "metadata": {},
   "outputs": [
    {
     "name": "stdout",
     "output_type": "stream",
     "text": [
      "['MOZZARELLA', 'cinderella', 'salmonella']\n"
     ]
    }
   ],
   "source": [
    "#7.6\n",
    "things = [\"mozzarella\", \"cinderella\", \"salmonella\"]\n",
    "for i in range(len(things)):\n",
    "    if \"mozzarella\" in things[i]:\n",
    "        things[i] = things[i].upper()\n",
    "\n",
    "print(things)"
   ]
  },
  {
   "cell_type": "code",
   "execution_count": 8,
   "id": "ad15fbc1-04e7-4744-a8e9-31c4d34a917a",
   "metadata": {},
   "outputs": [
    {
     "name": "stdout",
     "output_type": "stream",
     "text": [
      "collect Nobel Prize\n",
      "['mozzarella', 'cinderella']\n"
     ]
    }
   ],
   "source": [
    "#7.7\n",
    "things = [\"mozzarella\", \"cinderella\", \"salmonella\"]\n",
    "things.remove(\"salmonella\")\n",
    "\n",
    "print(\"collect Nobel Prize\")\n",
    "print(things)"
   ]
  },
  {
   "cell_type": "code",
   "execution_count": 9,
   "id": "e7c1de2c-1ed2-4075-bf18-a8cb0b0fcf51",
   "metadata": {},
   "outputs": [
    {
     "name": "stdout",
     "output_type": "stream",
     "text": [
      "['Harry', 'Ron', 'Hermione']\n"
     ]
    }
   ],
   "source": [
    "#9.1 \n",
    "def good():\n",
    "    return [\"Harry\", \"Ron\", \"Hermione\"]\n",
    "print(good())"
   ]
  },
  {
   "cell_type": "code",
   "execution_count": 10,
   "id": "644aadee-d188-4986-b47a-53aaea7819ca",
   "metadata": {},
   "outputs": [
    {
     "name": "stdout",
     "output_type": "stream",
     "text": [
      "The third odd number: 5\n"
     ]
    }
   ],
   "source": [
    "#9.2\n",
    "def odd_numbers():\n",
    "    for number in range(1, 10, 2):\n",
    "        yield number\n",
    "all_odds = odd_numbers()\n",
    "for i in range(3):\n",
    "    third_odd = next(all_odds)\n",
    "\n",
    "print(\"The third odd number:\", third_odd)"
   ]
  },
  {
   "cell_type": "code",
   "execution_count": null,
   "id": "b3a81ed0-b8fd-413a-87e8-3b00e3ee6c71",
   "metadata": {},
   "outputs": [],
   "source": []
  }
 ],
 "metadata": {
  "kernelspec": {
   "display_name": "Python 3 (ipykernel)",
   "language": "python",
   "name": "python3"
  },
  "language_info": {
   "codemirror_mode": {
    "name": "ipython",
    "version": 3
   },
   "file_extension": ".py",
   "mimetype": "text/x-python",
   "name": "python",
   "nbconvert_exporter": "python",
   "pygments_lexer": "ipython3",
   "version": "3.11.7"
  }
 },
 "nbformat": 4,
 "nbformat_minor": 5
}
