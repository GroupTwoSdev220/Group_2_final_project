{
 "cells": [
  {
   "cell_type": "code",
   "execution_count": 1,
   "id": "7fabb838-6d15-46de-bc67-bdf528ca657f",
   "metadata": {},
   "outputs": [],
   "source": [
    "#Minh Tong\n",
    "#M04 Program \n",
    "#Chapter 11 and 16 "
   ]
  },
  {
   "cell_type": "code",
   "execution_count": 3,
   "id": "b0de0ff0-94a5-448c-89da-d669d187fc9d",
   "metadata": {},
   "outputs": [],
   "source": [
    "#11.1\n",
    "#zoo.py \n",
    "def hours():\n",
    "    print(\"Open 9-5 daily\")\n",
    "#>>>import zoo\n",
    "#>>>zoo.hours \n",
    "#   \"Open 9-5 daily\""
   ]
  },
  {
   "cell_type": "code",
   "execution_count": 4,
   "id": "d0ef1d52-6bd4-4d00-ae7a-63d261a5788d",
   "metadata": {},
   "outputs": [],
   "source": [
    "#11.2 \n",
    "#>>>import zoo as menagerie\n",
    "#>>>menagerie.hours\n",
    "#    \"Open 9-5 daily\""
   ]
  },
  {
   "cell_type": "code",
   "execution_count": 1,
   "id": "bf25b73f-6023-4f1d-9ec6-125ba0980693",
   "metadata": {},
   "outputs": [
    {
     "ename": "KeyError",
     "evalue": "'books'",
     "output_type": "error",
     "traceback": [
      "\u001b[1;31m---------------------------------------------------------------------------\u001b[0m",
      "\u001b[1;31mKeyError\u001b[0m                                  Traceback (most recent call last)",
      "Cell \u001b[1;32mIn[1], line 7\u001b[0m\n\u001b[0;32m      5\u001b[0m metadata \u001b[38;5;241m=\u001b[39m MetaData()\n\u001b[0;32m      6\u001b[0m metadata\u001b[38;5;241m.\u001b[39mreflect(bind\u001b[38;5;241m=\u001b[39mengine)\n\u001b[1;32m----> 7\u001b[0m books_table \u001b[38;5;241m=\u001b[39m metadata\u001b[38;5;241m.\u001b[39mtables[\u001b[38;5;124m'\u001b[39m\u001b[38;5;124mbooks\u001b[39m\u001b[38;5;124m'\u001b[39m]\n\u001b[0;32m      8\u001b[0m connection \u001b[38;5;241m=\u001b[39m engine\u001b[38;5;241m.\u001b[39mconnect()\n\u001b[0;32m      9\u001b[0m select_query \u001b[38;5;241m=\u001b[39m select([books_table\u001b[38;5;241m.\u001b[39mc\u001b[38;5;241m.\u001b[39mtitle])\u001b[38;5;241m.\u001b[39morder_by(books_table\u001b[38;5;241m.\u001b[39mc\u001b[38;5;241m.\u001b[39mtitle\u001b[38;5;241m.\u001b[39masc())\n",
      "\u001b[1;31mKeyError\u001b[0m: 'books'"
     ]
    }
   ],
   "source": [
    "#18.6\n",
    "from sqlalchemy import make_engine, select, Table, MetaData\n",
    "\n",
    "engine = make_engine('sqlite:///books.db')\n",
    "metadata = MetaData()\n",
    "metadata.reflect(bind=engine)\n",
    "books_table = metadata.tables['books']\n",
    "connection = engine.connect()\n",
    "select_query = select([books_table.c.title]).order_by(books_table.c.title.asc())\n",
    "result_set = connection.execute(select_query)\n",
    "titles = result_set.fetchall()\n",
    "for book_title in titles:\n",
    "    print(book_title[0])\n",
    "connection.close()"
   ]
  },
  {
   "cell_type": "code",
   "execution_count": null,
   "id": "036570e3-ec41-482f-8bc5-62cbd3de38fc",
   "metadata": {},
   "outputs": [],
   "source": []
  }
 ],
 "metadata": {
  "kernelspec": {
   "display_name": "Python 3 (ipykernel)",
   "language": "python",
   "name": "python3"
  },
  "language_info": {
   "codemirror_mode": {
    "name": "ipython",
    "version": 3
   },
   "file_extension": ".py",
   "mimetype": "text/x-python",
   "name": "python",
   "nbconvert_exporter": "python",
   "pygments_lexer": "ipython3",
   "version": "3.11.7"
  }
 },
 "nbformat": 4,
 "nbformat_minor": 5
}
