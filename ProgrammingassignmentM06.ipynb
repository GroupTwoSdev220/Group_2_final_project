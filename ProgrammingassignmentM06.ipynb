{
 "cells": [
  {
   "cell_type": "code",
   "execution_count": 1,
   "id": "6bfa5064-2ce3-4b93-a88f-4ade25fc840d",
   "metadata": {},
   "outputs": [],
   "source": [
    "#Minh Tong \n",
    "#SDEV220 \n",
    "#4/27/2024 \n",
    "#Chapter 13 and 15"
   ]
  },
  {
   "cell_type": "code",
   "execution_count": 2,
   "id": "4f5f064a-189e-42e8-b8d6-f7e2e6bbae1d",
   "metadata": {},
   "outputs": [
    {
     "name": "stdout",
     "output_type": "stream",
     "text": [
      "today.txt contain the date for today\n"
     ]
    }
   ],
   "source": [
    "#13.1 Write the current date as a string to the text file today.txt.\n",
    "from datetime import date\n",
    "#use date.today the get the current date\n",
    "now = date.today()\n",
    "\n",
    "#write the date to the file \n",
    "with open(\"today.txt\", \"w\") as file:\n",
    "    file.write(str(now))\n",
    "\n",
    "print(\"today.txt contain the date for today\") "
   ]
  },
  {
   "cell_type": "code",
   "execution_count": 3,
   "id": "d4b426da-d172-4ba8-a310-5b1f6d10fe2b",
   "metadata": {},
   "outputs": [
    {
     "name": "stdout",
     "output_type": "stream",
     "text": [
      "2024-04-27\n"
     ]
    }
   ],
   "source": [
    "#13.2 Read the text file today.txt into the string today_string.\n",
    "#from the file 'today.txt', get the current date and print it out'\n",
    "with open(\"today.txt\", \"r\") as file:\n",
    "    today_string = file.read()\n",
    "\n",
    "print(today_string)"
   ]
  },
  {
   "cell_type": "code",
   "execution_count": 9,
   "id": "ebc44f89-2d82-494c-b361-fdad9666896a",
   "metadata": {},
   "outputs": [
    {
     "name": "stdout",
     "output_type": "stream",
     "text": [
      "2024-04-27\n"
     ]
    }
   ],
   "source": [
    "#13.3 Parse the date from today_string.\n",
    "from datetime import datetime\n",
    "now = datetime.strptime(today_string.strip(), \"%Y-%m-%d\").date()\n",
    "print(today_date)"
   ]
  },
  {
   "cell_type": "code",
   "execution_count": 3,
   "id": "2ae59f76-4cc1-4324-a6ef-779653cf7f79",
   "metadata": {},
   "outputs": [],
   "source": [
    "#15.1 Use multiprocessing to create three separate processes. Make each one wait a random number of seconds between zero and one, print the current time, and then exit.\n",
    "import multiprocessing\n",
    "from datetime import datetime\n",
    "import random\n",
    "import time\n",
    "def print_current_time():\n",
    "    \n",
    "    delay = random.random()\n",
    "    time.sleep(delay)\n",
    "    print(f\"Process {multiprocessing.current_process().name}: Current time is {datetime.now()}\")\n",
    "    \n",
    "processes = []\n",
    "for i in range(3):\n",
    "    process = multiprocessing.Process(target=print_current_time, name=f\"Process-{i}\")\n",
    "    processes.append(process)\n",
    "    process.start()\n",
    "\n",
    "for process in processes:\n",
    "    process.join()"
   ]
  },
  {
   "cell_type": "code",
   "execution_count": null,
   "id": "f20c6680-7427-4f28-a4d7-8e4679e4b0fd",
   "metadata": {},
   "outputs": [],
   "source": []
  }
 ],
 "metadata": {
  "kernelspec": {
   "display_name": "Python 3 (ipykernel)",
   "language": "python",
   "name": "python3"
  },
  "language_info": {
   "codemirror_mode": {
    "name": "ipython",
    "version": 3
   },
   "file_extension": ".py",
   "mimetype": "text/x-python",
   "name": "python",
   "nbconvert_exporter": "python",
   "pygments_lexer": "ipython3",
   "version": "3.11.7"
  }
 },
 "nbformat": 4,
 "nbformat_minor": 5
}
